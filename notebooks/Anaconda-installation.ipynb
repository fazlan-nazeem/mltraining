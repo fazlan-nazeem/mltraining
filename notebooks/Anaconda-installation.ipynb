{
 "cells": [
  {
   "cell_type": "markdown",
   "metadata": {
    "collapsed": false
   },
   "source": [
    "# Anaconda\n",
    "\n",
    "[![N|Solid](https://upload.wikimedia.org/wikipedia/en/c/cd/Anaconda_Logo.png)](https://www.continuum.io/)\n",
    "\n",
    "Anaconda is the leading open data science platform powered by Python. The open source version of Anaconda is a high performance distribution of Python and R and includes over 100 of the most popular Python, R and Scala packages for data science.\n",
    "  - Essential packages Sklearn, NumPy, SciPy and Pandas comes built in\n",
    "  - Jupyter Notebook preinstalled\n",
    "  - You can separate development environments with different pacakge versions ( virtual environments without a VM )\n",
    "\n",
    "#### Installation\n",
    "\n",
    "  - Click on the Anaconda logo image. This will take you to its homepage\n",
    "  - Click on Download Anaconda and choose your operating system\n",
    "  - Follow the installation instructions for each operating system\n",
    "\n",
    "\n",
    "#### After installation\n",
    "  - Anaconda installation will install a package manager called 'conda'. You can install various packages using this tool.\n",
    "    - conda install packagename\n",
    "    - conda update packagename\n",
    "  - You will be rarely using this to install packages since most of the time the package you need is already installed by the default distribution\n",
    "\n",
    "\n"
   ]
  },
  {
   "cell_type": "markdown",
   "metadata": {
    "collapsed": true
   },
   "source": [
    "# Jupyter Notebook\n",
    "\n",
    "[![N|Solid](http://www.marcelpatek.com/nbo/img/jupyter.svg)](http://jupyter.org/)\n",
    "\n",
    "The Jupyter Notebook is an open-source web application that allows you to create and share documents that contain live code, equations, visualizations and explanatory text. Uses include: data cleaning and transformation, numerical simulation, statistical modeling, machine learning and much more.\n",
    "\n",
    "#### Used to be ipython\n",
    "\n",
    "> Simply put, Jupyter is the evolution of IPython notebooks. Jupyter has replaced IPython notebooks. IPython notebooks was started with an objective of making working with python easy and much more interactive... just python.\n",
    "It has, since then, been evolved to become language agnostic. It must have been later realized that the same can be done for many other languages!\n",
    "\n",
    " - The Notebook has support for over 40 programming languages, including those popular in Data Science such as Python, R, Julia and Scala.\n",
    " - Notebooks can be shared with others using email, Dropbox, GitHub and the Jupyter Notebook Viewer.\n",
    " - Code can produce rich output such as images, videos, LaTeX, and JavaScript. Interactive widgets can be used to manipulate and visualize data in realtime\n",
    " - Leverage big data tools, such as Apache Spark, from Python, R and Scala. Explore that same data with pandas, scikit-learn, ggplot2, dplyr, etc.\n",
    "\n",
    "\n",
    "#### Launch Jupyer Notebook\n",
    "\n",
    "change your directory path to your working directory and execute the following command\n",
    "- jypyter notebook\n",
    "\n",
    "**Free Software, Hell Yeah!**"
   ]
  },
  {
   "cell_type": "code",
   "execution_count": null,
   "metadata": {
    "collapsed": true
   },
   "outputs": [],
   "source": []
  }
 ],
 "metadata": {
  "kernelspec": {
   "display_name": "Python 3",
   "language": "python",
   "name": "python3"
  },
  "language_info": {
   "codemirror_mode": {
    "name": "ipython",
    "version": 3
   },
   "file_extension": ".py",
   "mimetype": "text/x-python",
   "name": "python",
   "nbconvert_exporter": "python",
   "pygments_lexer": "ipython3",
   "version": "3.6.0"
  }
 },
 "nbformat": 4,
 "nbformat_minor": 0
}
